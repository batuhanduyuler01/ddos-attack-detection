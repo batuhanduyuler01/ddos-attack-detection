{
 "cells": [
  {
   "cell_type": "markdown",
   "id": "5be43080",
   "metadata": {},
   "source": [
    "# DDoS Attack Detection With ML & DL and Differential Privacy Concept"
   ]
  },
  {
   "cell_type": "markdown",
   "id": "b7db7438",
   "metadata": {},
   "source": [
    "### 1.Data Preprocessing "
   ]
  },
  {
   "cell_type": "code",
   "execution_count": 1,
   "id": "42143821",
   "metadata": {},
   "outputs": [],
   "source": [
    "import pandas as pd\n",
    "import numpy as np\n",
    "import matplotlib.pyplot as plt\n",
    "\n",
    "import sys\n",
    "sys.path.insert(0, '../source/')\n",
    "from DataProcessor import DataProcessor"
   ]
  },
  {
   "cell_type": "code",
   "execution_count": 2,
   "id": "94046263",
   "metadata": {},
   "outputs": [],
   "source": [
    "def find_common_features(my_A, my_B, my_C):\n",
    "   my_s1 = set(my_A)\n",
    "   my_s2 = set(my_B)\n",
    "   my_s3 = set(my_C)\n",
    "   my_set1 = my_s1.intersection(my_s2)\n",
    "   output_set = my_set1.intersection(my_s3)\n",
    "   output_list = list(output_set)\n",
    "   return output_list"
   ]
  },
  {
   "cell_type": "code",
   "execution_count": 3,
   "id": "53e956b5",
   "metadata": {},
   "outputs": [],
   "source": [
    "def process_basics_for_data(dataframe : pd.DataFrame) -> pd.DataFrame :\n",
    "    dataProcessor: DataProcessor = DataProcessor(dataframe)\n",
    "    scaledData = dataProcessor.min_max_scaler(dataframe)\n",
    "    encodedScaledData = dataProcessor.label_encoder(scaledData)\n",
    "    return encodedScaledData"
   ]
  },
  {
   "cell_type": "code",
   "execution_count": 4,
   "id": "0b56fe72",
   "metadata": {},
   "outputs": [],
   "source": [
    "mondayDataset: pd.DataFrame = pd.read_csv(\n",
    "    \"../verisetleri/Monday-WorkingHours.pcap_ISCX.csv\", low_memory=False)\n",
    "    \n",
    "fridayDataSet: pd.DataFrame = pd.read_csv(\n",
    "    \"../verisetleri/Friday-WorkingHours-Afternoon-DDos.pcap_ISCX.csv\", low_memory=False)\n",
    "    \n",
    "synDataset : pd.DataFrame = pd.read_csv(\"../verisetleri/01-12/Syn.csv\", low_memory = False)"
   ]
  },
  {
   "cell_type": "code",
   "execution_count": 77,
   "id": "3e18da4b",
   "metadata": {},
   "outputs": [
    {
     "data": {
      "text/html": [
       "<div>\n",
       "<style scoped>\n",
       "    .dataframe tbody tr th:only-of-type {\n",
       "        vertical-align: middle;\n",
       "    }\n",
       "\n",
       "    .dataframe tbody tr th {\n",
       "        vertical-align: top;\n",
       "    }\n",
       "\n",
       "    .dataframe thead th {\n",
       "        text-align: right;\n",
       "    }\n",
       "</style>\n",
       "<table border=\"1\" class=\"dataframe\">\n",
       "  <thead>\n",
       "    <tr style=\"text-align: right;\">\n",
       "      <th></th>\n",
       "      <th>Flow Duration</th>\n",
       "      <th>FIN Flag Count</th>\n",
       "      <th>Flow Packets/s</th>\n",
       "      <th>Fwd IAT Min</th>\n",
       "      <th>Fwd IAT Mean</th>\n",
       "      <th>Active Max</th>\n",
       "      <th>Fwd Avg Bytes/Bulk</th>\n",
       "      <th>Bwd IAT Std</th>\n",
       "      <th>Flow IAT Mean</th>\n",
       "      <th>Init_Win_bytes_forward</th>\n",
       "      <th>...</th>\n",
       "      <th>ECE Flag Count</th>\n",
       "      <th>Fwd URG Flags</th>\n",
       "      <th>Idle Min</th>\n",
       "      <th>Idle Max</th>\n",
       "      <th>Subflow Bwd Bytes</th>\n",
       "      <th>Subflow Fwd Bytes</th>\n",
       "      <th>Fwd Avg Bulk Rate</th>\n",
       "      <th>Packet Length Variance</th>\n",
       "      <th>Bwd Packet Length Mean</th>\n",
       "      <th>Fwd Header Length</th>\n",
       "    </tr>\n",
       "  </thead>\n",
       "  <tbody>\n",
       "    <tr>\n",
       "      <th>0</th>\n",
       "      <td>3</td>\n",
       "      <td>0</td>\n",
       "      <td>666666.66670</td>\n",
       "      <td>3</td>\n",
       "      <td>3.0</td>\n",
       "      <td>0</td>\n",
       "      <td>0</td>\n",
       "      <td>0.0</td>\n",
       "      <td>3.0</td>\n",
       "      <td>33</td>\n",
       "      <td>...</td>\n",
       "      <td>0</td>\n",
       "      <td>0</td>\n",
       "      <td>0</td>\n",
       "      <td>0</td>\n",
       "      <td>0</td>\n",
       "      <td>12</td>\n",
       "      <td>0</td>\n",
       "      <td>0.0</td>\n",
       "      <td>0.0</td>\n",
       "      <td>40</td>\n",
       "    </tr>\n",
       "    <tr>\n",
       "      <th>1</th>\n",
       "      <td>109</td>\n",
       "      <td>0</td>\n",
       "      <td>18348.62385</td>\n",
       "      <td>0</td>\n",
       "      <td>0.0</td>\n",
       "      <td>0</td>\n",
       "      <td>0</td>\n",
       "      <td>0.0</td>\n",
       "      <td>109.0</td>\n",
       "      <td>29</td>\n",
       "      <td>...</td>\n",
       "      <td>0</td>\n",
       "      <td>0</td>\n",
       "      <td>0</td>\n",
       "      <td>0</td>\n",
       "      <td>6</td>\n",
       "      <td>6</td>\n",
       "      <td>0</td>\n",
       "      <td>0.0</td>\n",
       "      <td>6.0</td>\n",
       "      <td>20</td>\n",
       "    </tr>\n",
       "    <tr>\n",
       "      <th>2</th>\n",
       "      <td>52</td>\n",
       "      <td>0</td>\n",
       "      <td>38461.53846</td>\n",
       "      <td>0</td>\n",
       "      <td>0.0</td>\n",
       "      <td>0</td>\n",
       "      <td>0</td>\n",
       "      <td>0.0</td>\n",
       "      <td>52.0</td>\n",
       "      <td>29</td>\n",
       "      <td>...</td>\n",
       "      <td>0</td>\n",
       "      <td>0</td>\n",
       "      <td>0</td>\n",
       "      <td>0</td>\n",
       "      <td>6</td>\n",
       "      <td>6</td>\n",
       "      <td>0</td>\n",
       "      <td>0.0</td>\n",
       "      <td>6.0</td>\n",
       "      <td>20</td>\n",
       "    </tr>\n",
       "    <tr>\n",
       "      <th>3</th>\n",
       "      <td>34</td>\n",
       "      <td>0</td>\n",
       "      <td>58823.52941</td>\n",
       "      <td>0</td>\n",
       "      <td>0.0</td>\n",
       "      <td>0</td>\n",
       "      <td>0</td>\n",
       "      <td>0.0</td>\n",
       "      <td>34.0</td>\n",
       "      <td>31</td>\n",
       "      <td>...</td>\n",
       "      <td>0</td>\n",
       "      <td>0</td>\n",
       "      <td>0</td>\n",
       "      <td>0</td>\n",
       "      <td>6</td>\n",
       "      <td>6</td>\n",
       "      <td>0</td>\n",
       "      <td>0.0</td>\n",
       "      <td>6.0</td>\n",
       "      <td>20</td>\n",
       "    </tr>\n",
       "    <tr>\n",
       "      <th>4</th>\n",
       "      <td>3</td>\n",
       "      <td>0</td>\n",
       "      <td>666666.66670</td>\n",
       "      <td>3</td>\n",
       "      <td>3.0</td>\n",
       "      <td>0</td>\n",
       "      <td>0</td>\n",
       "      <td>0.0</td>\n",
       "      <td>3.0</td>\n",
       "      <td>32</td>\n",
       "      <td>...</td>\n",
       "      <td>0</td>\n",
       "      <td>0</td>\n",
       "      <td>0</td>\n",
       "      <td>0</td>\n",
       "      <td>0</td>\n",
       "      <td>12</td>\n",
       "      <td>0</td>\n",
       "      <td>0.0</td>\n",
       "      <td>0.0</td>\n",
       "      <td>40</td>\n",
       "    </tr>\n",
       "    <tr>\n",
       "      <th>...</th>\n",
       "      <td>...</td>\n",
       "      <td>...</td>\n",
       "      <td>...</td>\n",
       "      <td>...</td>\n",
       "      <td>...</td>\n",
       "      <td>...</td>\n",
       "      <td>...</td>\n",
       "      <td>...</td>\n",
       "      <td>...</td>\n",
       "      <td>...</td>\n",
       "      <td>...</td>\n",
       "      <td>...</td>\n",
       "      <td>...</td>\n",
       "      <td>...</td>\n",
       "      <td>...</td>\n",
       "      <td>...</td>\n",
       "      <td>...</td>\n",
       "      <td>...</td>\n",
       "      <td>...</td>\n",
       "      <td>...</td>\n",
       "      <td>...</td>\n",
       "    </tr>\n",
       "    <tr>\n",
       "      <th>225740</th>\n",
       "      <td>61</td>\n",
       "      <td>0</td>\n",
       "      <td>32786.88525</td>\n",
       "      <td>0</td>\n",
       "      <td>0.0</td>\n",
       "      <td>0</td>\n",
       "      <td>0</td>\n",
       "      <td>0.0</td>\n",
       "      <td>61.0</td>\n",
       "      <td>288</td>\n",
       "      <td>...</td>\n",
       "      <td>0</td>\n",
       "      <td>0</td>\n",
       "      <td>0</td>\n",
       "      <td>0</td>\n",
       "      <td>6</td>\n",
       "      <td>6</td>\n",
       "      <td>0</td>\n",
       "      <td>0.0</td>\n",
       "      <td>6.0</td>\n",
       "      <td>20</td>\n",
       "    </tr>\n",
       "    <tr>\n",
       "      <th>225741</th>\n",
       "      <td>72</td>\n",
       "      <td>0</td>\n",
       "      <td>27777.77778</td>\n",
       "      <td>0</td>\n",
       "      <td>0.0</td>\n",
       "      <td>0</td>\n",
       "      <td>0</td>\n",
       "      <td>0.0</td>\n",
       "      <td>72.0</td>\n",
       "      <td>288</td>\n",
       "      <td>...</td>\n",
       "      <td>0</td>\n",
       "      <td>0</td>\n",
       "      <td>0</td>\n",
       "      <td>0</td>\n",
       "      <td>6</td>\n",
       "      <td>6</td>\n",
       "      <td>0</td>\n",
       "      <td>0.0</td>\n",
       "      <td>6.0</td>\n",
       "      <td>20</td>\n",
       "    </tr>\n",
       "    <tr>\n",
       "      <th>225742</th>\n",
       "      <td>75</td>\n",
       "      <td>0</td>\n",
       "      <td>26666.66667</td>\n",
       "      <td>0</td>\n",
       "      <td>0.0</td>\n",
       "      <td>0</td>\n",
       "      <td>0</td>\n",
       "      <td>0.0</td>\n",
       "      <td>75.0</td>\n",
       "      <td>288</td>\n",
       "      <td>...</td>\n",
       "      <td>0</td>\n",
       "      <td>0</td>\n",
       "      <td>0</td>\n",
       "      <td>0</td>\n",
       "      <td>6</td>\n",
       "      <td>6</td>\n",
       "      <td>0</td>\n",
       "      <td>0.0</td>\n",
       "      <td>6.0</td>\n",
       "      <td>20</td>\n",
       "    </tr>\n",
       "    <tr>\n",
       "      <th>225743</th>\n",
       "      <td>48</td>\n",
       "      <td>0</td>\n",
       "      <td>41666.66667</td>\n",
       "      <td>48</td>\n",
       "      <td>48.0</td>\n",
       "      <td>0</td>\n",
       "      <td>0</td>\n",
       "      <td>0.0</td>\n",
       "      <td>48.0</td>\n",
       "      <td>4719</td>\n",
       "      <td>...</td>\n",
       "      <td>0</td>\n",
       "      <td>0</td>\n",
       "      <td>0</td>\n",
       "      <td>0</td>\n",
       "      <td>0</td>\n",
       "      <td>12</td>\n",
       "      <td>0</td>\n",
       "      <td>0.0</td>\n",
       "      <td>0.0</td>\n",
       "      <td>40</td>\n",
       "    </tr>\n",
       "    <tr>\n",
       "      <th>225744</th>\n",
       "      <td>68</td>\n",
       "      <td>0</td>\n",
       "      <td>29411.76471</td>\n",
       "      <td>0</td>\n",
       "      <td>0.0</td>\n",
       "      <td>0</td>\n",
       "      <td>0</td>\n",
       "      <td>0.0</td>\n",
       "      <td>68.0</td>\n",
       "      <td>13140</td>\n",
       "      <td>...</td>\n",
       "      <td>0</td>\n",
       "      <td>0</td>\n",
       "      <td>0</td>\n",
       "      <td>0</td>\n",
       "      <td>6</td>\n",
       "      <td>6</td>\n",
       "      <td>0</td>\n",
       "      <td>0.0</td>\n",
       "      <td>6.0</td>\n",
       "      <td>20</td>\n",
       "    </tr>\n",
       "  </tbody>\n",
       "</table>\n",
       "<p>225741 rows × 79 columns</p>\n",
       "</div>"
      ],
      "text/plain": [
       "         Flow Duration  FIN Flag Count   Flow Packets/s   Fwd IAT Min  \\\n",
       "0                    3               0     666666.66670             3   \n",
       "1                  109               0      18348.62385             0   \n",
       "2                   52               0      38461.53846             0   \n",
       "3                   34               0      58823.52941             0   \n",
       "4                    3               0     666666.66670             3   \n",
       "...                ...             ...              ...           ...   \n",
       "225740              61               0      32786.88525             0   \n",
       "225741              72               0      27777.77778             0   \n",
       "225742              75               0      26666.66667             0   \n",
       "225743              48               0      41666.66667            48   \n",
       "225744              68               0      29411.76471             0   \n",
       "\n",
       "         Fwd IAT Mean   Active Max  Fwd Avg Bytes/Bulk   Bwd IAT Std  \\\n",
       "0                 3.0            0                   0           0.0   \n",
       "1                 0.0            0                   0           0.0   \n",
       "2                 0.0            0                   0           0.0   \n",
       "3                 0.0            0                   0           0.0   \n",
       "4                 3.0            0                   0           0.0   \n",
       "...               ...          ...                 ...           ...   \n",
       "225740            0.0            0                   0           0.0   \n",
       "225741            0.0            0                   0           0.0   \n",
       "225742            0.0            0                   0           0.0   \n",
       "225743           48.0            0                   0           0.0   \n",
       "225744            0.0            0                   0           0.0   \n",
       "\n",
       "         Flow IAT Mean  Init_Win_bytes_forward  ...   ECE Flag Count  \\\n",
       "0                  3.0                      33  ...                0   \n",
       "1                109.0                      29  ...                0   \n",
       "2                 52.0                      29  ...                0   \n",
       "3                 34.0                      31  ...                0   \n",
       "4                  3.0                      32  ...                0   \n",
       "...                ...                     ...  ...              ...   \n",
       "225740            61.0                     288  ...                0   \n",
       "225741            72.0                     288  ...                0   \n",
       "225742            75.0                     288  ...                0   \n",
       "225743            48.0                    4719  ...                0   \n",
       "225744            68.0                   13140  ...                0   \n",
       "\n",
       "         Fwd URG Flags   Idle Min   Idle Max   Subflow Bwd Bytes  \\\n",
       "0                    0          0          0                   0   \n",
       "1                    0          0          0                   6   \n",
       "2                    0          0          0                   6   \n",
       "3                    0          0          0                   6   \n",
       "4                    0          0          0                   0   \n",
       "...                ...        ...        ...                 ...   \n",
       "225740               0          0          0                   6   \n",
       "225741               0          0          0                   6   \n",
       "225742               0          0          0                   6   \n",
       "225743               0          0          0                   0   \n",
       "225744               0          0          0                   6   \n",
       "\n",
       "         Subflow Fwd Bytes   Fwd Avg Bulk Rate   Packet Length Variance  \\\n",
       "0                       12                   0                      0.0   \n",
       "1                        6                   0                      0.0   \n",
       "2                        6                   0                      0.0   \n",
       "3                        6                   0                      0.0   \n",
       "4                       12                   0                      0.0   \n",
       "...                    ...                 ...                      ...   \n",
       "225740                   6                   0                      0.0   \n",
       "225741                   6                   0                      0.0   \n",
       "225742                   6                   0                      0.0   \n",
       "225743                  12                   0                      0.0   \n",
       "225744                   6                   0                      0.0   \n",
       "\n",
       "         Bwd Packet Length Mean   Fwd Header Length  \n",
       "0                           0.0                  40  \n",
       "1                           6.0                  20  \n",
       "2                           6.0                  20  \n",
       "3                           6.0                  20  \n",
       "4                           0.0                  40  \n",
       "...                         ...                 ...  \n",
       "225740                      6.0                  20  \n",
       "225741                      6.0                  20  \n",
       "225742                      6.0                  20  \n",
       "225743                      0.0                  40  \n",
       "225744                      6.0                  20  \n",
       "\n",
       "[225741 rows x 79 columns]"
      ]
     },
     "execution_count": 77,
     "metadata": {},
     "output_type": "execute_result"
    }
   ],
   "source": [
    "fridayDataSet"
   ]
  },
  {
   "cell_type": "code",
   "execution_count": 5,
   "id": "5ebe98d2",
   "metadata": {},
   "outputs": [],
   "source": [
    "commonColumns = find_common_features(mondayDataset.columns, fridayDataSet.columns, synDataset.columns)\n",
    "mondayDataset = mondayDataset[commonColumns]\n",
    "fridayDataSet = fridayDataSet[commonColumns]\n",
    "synDataset = synDataset[commonColumns]"
   ]
  },
  {
   "cell_type": "code",
   "execution_count": 6,
   "id": "a0e805f0",
   "metadata": {},
   "outputs": [],
   "source": [
    "processedMonday = process_basics_for_data(mondayDataset)\n",
    "processedFriday = process_basics_for_data(fridayDataSet)\n",
    "processedSyn = process_basics_for_data(synDataset)"
   ]
  },
  {
   "cell_type": "code",
   "execution_count": 7,
   "id": "69321036",
   "metadata": {},
   "outputs": [],
   "source": [
    "commonColumns = find_common_features(processedMonday.columns, processedFriday.columns, processedSyn.columns)\n",
    "processedMonday = processedMonday[commonColumns]\n",
    "processedFriday = processedFriday[commonColumns]\n",
    "processedSyn = processedSyn[commonColumns]"
   ]
  },
  {
   "cell_type": "markdown",
   "id": "3e5713b6",
   "metadata": {},
   "source": [
    "### 2. Feature Selection For Machine Learning"
   ]
  },
  {
   "cell_type": "code",
   "execution_count": 8,
   "id": "b7fd189d",
   "metadata": {},
   "outputs": [
    {
     "name": "stdout",
     "output_type": "stream",
     "text": [
      "Output of ChiSquare Feature Selector\n",
      "                      Specs         Score\n",
      "3            URG Flag Count  41617.123081\n",
      "53         Destination Port  39345.753421\n",
      "12    Bwd Packet Length Max  32325.617363\n",
      "34    Bwd Packet Length Std  22329.356165\n",
      "58   Bwd Packet Length Mean  19963.264339\n",
      "26     Avg Bwd Segment Size  19963.264339\n",
      "19        Max Packet Length  14957.905366\n",
      "48       Packet Length Mean  14596.850204\n",
      "7             Bwd IAT Total  14066.375959\n",
      "16        Packet Length Std  13947.536377\n"
     ]
    }
   ],
   "source": [
    "dataProcessor: DataProcessor = DataProcessor(processedFriday)\n",
    "bestFeatureFrame = dataProcessor.chi_square_feature_selector(processedFriday)\n",
    "bestFeatures = bestFeatureFrame.Specs"
   ]
  },
  {
   "cell_type": "code",
   "execution_count": 9,
   "id": "c763de2f",
   "metadata": {},
   "outputs": [],
   "source": [
    "corrDataframe  = pd.concat([processedFriday[bestFeatures], processedFriday[\" Label\"]], axis = 1)\n",
    "corrDataframe = corrDataframe.reset_index()"
   ]
  },
  {
   "cell_type": "code",
   "execution_count": 10,
   "id": "17a1504e",
   "metadata": {},
   "outputs": [
    {
     "data": {
      "text/html": [
       "<div>\n",
       "<style scoped>\n",
       "    .dataframe tbody tr th:only-of-type {\n",
       "        vertical-align: middle;\n",
       "    }\n",
       "\n",
       "    .dataframe tbody tr th {\n",
       "        vertical-align: top;\n",
       "    }\n",
       "\n",
       "    .dataframe thead th {\n",
       "        text-align: right;\n",
       "    }\n",
       "</style>\n",
       "<table border=\"1\" class=\"dataframe\">\n",
       "  <thead>\n",
       "    <tr style=\"text-align: right;\">\n",
       "      <th></th>\n",
       "      <th>URG Flag Count</th>\n",
       "      <th>Destination Port</th>\n",
       "      <th>Bwd Packet Length Max</th>\n",
       "      <th>Bwd Packet Length Std</th>\n",
       "      <th>Bwd Packet Length Mean</th>\n",
       "      <th>Avg Bwd Segment Size</th>\n",
       "      <th>Max Packet Length</th>\n",
       "      <th>Packet Length Mean</th>\n",
       "      <th>Bwd IAT Total</th>\n",
       "      <th>Packet Length Std</th>\n",
       "      <th>Label</th>\n",
       "    </tr>\n",
       "  </thead>\n",
       "  <tbody>\n",
       "    <tr>\n",
       "      <th>0</th>\n",
       "      <td>0.0</td>\n",
       "      <td>0.837225</td>\n",
       "      <td>0.000000</td>\n",
       "      <td>0.0</td>\n",
       "      <td>0.000000</td>\n",
       "      <td>0.000000</td>\n",
       "      <td>0.000514</td>\n",
       "      <td>0.003098</td>\n",
       "      <td>0.0</td>\n",
       "      <td>0.0</td>\n",
       "      <td>0</td>\n",
       "    </tr>\n",
       "    <tr>\n",
       "      <th>1</th>\n",
       "      <td>1.0</td>\n",
       "      <td>0.840109</td>\n",
       "      <td>0.000514</td>\n",
       "      <td>0.0</td>\n",
       "      <td>0.001034</td>\n",
       "      <td>0.001034</td>\n",
       "      <td>0.000514</td>\n",
       "      <td>0.003098</td>\n",
       "      <td>0.0</td>\n",
       "      <td>0.0</td>\n",
       "      <td>0</td>\n",
       "    </tr>\n",
       "    <tr>\n",
       "      <th>2</th>\n",
       "      <td>1.0</td>\n",
       "      <td>0.840124</td>\n",
       "      <td>0.000514</td>\n",
       "      <td>0.0</td>\n",
       "      <td>0.001034</td>\n",
       "      <td>0.001034</td>\n",
       "      <td>0.000514</td>\n",
       "      <td>0.003098</td>\n",
       "      <td>0.0</td>\n",
       "      <td>0.0</td>\n",
       "      <td>0</td>\n",
       "    </tr>\n",
       "    <tr>\n",
       "      <th>3</th>\n",
       "      <td>1.0</td>\n",
       "      <td>0.705548</td>\n",
       "      <td>0.000514</td>\n",
       "      <td>0.0</td>\n",
       "      <td>0.001034</td>\n",
       "      <td>0.001034</td>\n",
       "      <td>0.000514</td>\n",
       "      <td>0.003098</td>\n",
       "      <td>0.0</td>\n",
       "      <td>0.0</td>\n",
       "      <td>0</td>\n",
       "    </tr>\n",
       "    <tr>\n",
       "      <th>4</th>\n",
       "      <td>0.0</td>\n",
       "      <td>0.837194</td>\n",
       "      <td>0.000000</td>\n",
       "      <td>0.0</td>\n",
       "      <td>0.000000</td>\n",
       "      <td>0.000000</td>\n",
       "      <td>0.000514</td>\n",
       "      <td>0.003098</td>\n",
       "      <td>0.0</td>\n",
       "      <td>0.0</td>\n",
       "      <td>0</td>\n",
       "    </tr>\n",
       "    <tr>\n",
       "      <th>...</th>\n",
       "      <td>...</td>\n",
       "      <td>...</td>\n",
       "      <td>...</td>\n",
       "      <td>...</td>\n",
       "      <td>...</td>\n",
       "      <td>...</td>\n",
       "      <td>...</td>\n",
       "      <td>...</td>\n",
       "      <td>...</td>\n",
       "      <td>...</td>\n",
       "      <td>...</td>\n",
       "    </tr>\n",
       "    <tr>\n",
       "      <th>225736</th>\n",
       "      <td>1.0</td>\n",
       "      <td>0.936550</td>\n",
       "      <td>0.000514</td>\n",
       "      <td>0.0</td>\n",
       "      <td>0.001034</td>\n",
       "      <td>0.001034</td>\n",
       "      <td>0.000514</td>\n",
       "      <td>0.003098</td>\n",
       "      <td>0.0</td>\n",
       "      <td>0.0</td>\n",
       "      <td>0</td>\n",
       "    </tr>\n",
       "    <tr>\n",
       "      <th>225737</th>\n",
       "      <td>1.0</td>\n",
       "      <td>0.936611</td>\n",
       "      <td>0.000514</td>\n",
       "      <td>0.0</td>\n",
       "      <td>0.001034</td>\n",
       "      <td>0.001034</td>\n",
       "      <td>0.000514</td>\n",
       "      <td>0.003098</td>\n",
       "      <td>0.0</td>\n",
       "      <td>0.0</td>\n",
       "      <td>0</td>\n",
       "    </tr>\n",
       "    <tr>\n",
       "      <th>225738</th>\n",
       "      <td>1.0</td>\n",
       "      <td>0.936565</td>\n",
       "      <td>0.000514</td>\n",
       "      <td>0.0</td>\n",
       "      <td>0.001034</td>\n",
       "      <td>0.001034</td>\n",
       "      <td>0.000514</td>\n",
       "      <td>0.003098</td>\n",
       "      <td>0.0</td>\n",
       "      <td>0.0</td>\n",
       "      <td>0</td>\n",
       "    </tr>\n",
       "    <tr>\n",
       "      <th>225739</th>\n",
       "      <td>0.0</td>\n",
       "      <td>0.935772</td>\n",
       "      <td>0.000000</td>\n",
       "      <td>0.0</td>\n",
       "      <td>0.000000</td>\n",
       "      <td>0.000000</td>\n",
       "      <td>0.000514</td>\n",
       "      <td>0.003098</td>\n",
       "      <td>0.0</td>\n",
       "      <td>0.0</td>\n",
       "      <td>0</td>\n",
       "    </tr>\n",
       "    <tr>\n",
       "      <th>225740</th>\n",
       "      <td>1.0</td>\n",
       "      <td>0.935818</td>\n",
       "      <td>0.000514</td>\n",
       "      <td>0.0</td>\n",
       "      <td>0.001034</td>\n",
       "      <td>0.001034</td>\n",
       "      <td>0.000514</td>\n",
       "      <td>0.003098</td>\n",
       "      <td>0.0</td>\n",
       "      <td>0.0</td>\n",
       "      <td>0</td>\n",
       "    </tr>\n",
       "  </tbody>\n",
       "</table>\n",
       "<p>225741 rows × 11 columns</p>\n",
       "</div>"
      ],
      "text/plain": [
       "         URG Flag Count   Destination Port  Bwd Packet Length Max  \\\n",
       "0                   0.0           0.837225               0.000000   \n",
       "1                   1.0           0.840109               0.000514   \n",
       "2                   1.0           0.840124               0.000514   \n",
       "3                   1.0           0.705548               0.000514   \n",
       "4                   0.0           0.837194               0.000000   \n",
       "...                 ...                ...                    ...   \n",
       "225736              1.0           0.936550               0.000514   \n",
       "225737              1.0           0.936611               0.000514   \n",
       "225738              1.0           0.936565               0.000514   \n",
       "225739              0.0           0.935772               0.000000   \n",
       "225740              1.0           0.935818               0.000514   \n",
       "\n",
       "         Bwd Packet Length Std   Bwd Packet Length Mean  \\\n",
       "0                          0.0                 0.000000   \n",
       "1                          0.0                 0.001034   \n",
       "2                          0.0                 0.001034   \n",
       "3                          0.0                 0.001034   \n",
       "4                          0.0                 0.000000   \n",
       "...                        ...                      ...   \n",
       "225736                     0.0                 0.001034   \n",
       "225737                     0.0                 0.001034   \n",
       "225738                     0.0                 0.001034   \n",
       "225739                     0.0                 0.000000   \n",
       "225740                     0.0                 0.001034   \n",
       "\n",
       "         Avg Bwd Segment Size   Max Packet Length   Packet Length Mean  \\\n",
       "0                    0.000000            0.000514             0.003098   \n",
       "1                    0.001034            0.000514             0.003098   \n",
       "2                    0.001034            0.000514             0.003098   \n",
       "3                    0.001034            0.000514             0.003098   \n",
       "4                    0.000000            0.000514             0.003098   \n",
       "...                       ...                 ...                  ...   \n",
       "225736               0.001034            0.000514             0.003098   \n",
       "225737               0.001034            0.000514             0.003098   \n",
       "225738               0.001034            0.000514             0.003098   \n",
       "225739               0.000000            0.000514             0.003098   \n",
       "225740               0.001034            0.000514             0.003098   \n",
       "\n",
       "        Bwd IAT Total   Packet Length Std   Label  \n",
       "0                 0.0                 0.0       0  \n",
       "1                 0.0                 0.0       0  \n",
       "2                 0.0                 0.0       0  \n",
       "3                 0.0                 0.0       0  \n",
       "4                 0.0                 0.0       0  \n",
       "...               ...                 ...     ...  \n",
       "225736            0.0                 0.0       0  \n",
       "225737            0.0                 0.0       0  \n",
       "225738            0.0                 0.0       0  \n",
       "225739            0.0                 0.0       0  \n",
       "225740            0.0                 0.0       0  \n",
       "\n",
       "[225741 rows x 11 columns]"
      ]
     },
     "execution_count": 10,
     "metadata": {},
     "output_type": "execute_result"
    }
   ],
   "source": [
    "corrDataframe = corrDataframe.drop([\"index\"], axis=1)\n",
    "corrDataframe"
   ]
  },
  {
   "cell_type": "code",
   "execution_count": 11,
   "id": "131c8194",
   "metadata": {},
   "outputs": [
    {
     "data": {
      "image/png": "[encoded data removed]",
      "text/plain": [
       "<Figure size 1440x1440 with 2 Axes>"
      ]
     },
     "metadata": {
      "needs_background": "light"
     },
     "output_type": "display_data"
    }
   ],
   "source": [
    "dataProcessor.print_correlation_matrix(corrDataframe)"
   ]
  },
  {
   "cell_type": "markdown",
   "id": "394bee9a",
   "metadata": {},
   "source": [
    "## Machine Learning Methods "
   ]
  },
  {
   "cell_type": "code",
   "execution_count": 12,
   "id": "41e6f64b",
   "metadata": {},
   "outputs": [
    {
     "name": "stdout",
     "output_type": "stream",
     "text": [
      "Generic Method Builder is invoke.\n",
      "ML Builder is invoke\n"
     ]
    }
   ],
   "source": [
    "import MLMethodBuilder as mlbuilder;\n",
    "mlBuilder = mlbuilder.MLMethodBuilder(corrDataframe)"
   ]
  },
  {
   "cell_type": "code",
   "execution_count": 13,
   "id": "92d3dd7c",
   "metadata": {},
   "outputs": [
    {
     "name": "stdout",
     "output_type": "stream",
     "text": [
      "Data will split.\n",
      "NaiveBayes Results calculated in: 0.05311989784240723 s\n",
      "Confusion Matrix of Naive Bayes Classifier: \n",
      " [[10431  9136]\n",
      " [    0 25582]]\n",
      "\n",
      "\n",
      "Calculated Metrics: \n",
      "\n",
      "accuracy: 0.7976477884338523\n",
      "\n",
      "precision: 1.0\n",
      "\n",
      "recall: 0.7368512011060545\n",
      "\n",
      "f1 score: 0.8484908789386401\n"
     ]
    }
   ],
   "source": [
    "mlBuilder.NaiveBayes()"
   ]
  },
  {
   "cell_type": "code",
   "execution_count": 36,
   "id": "2fdaa414",
   "metadata": {
    "scrolled": true
   },
   "outputs": [
    {
     "name": "stdout",
     "output_type": "stream",
     "text": [
      "Decision Tree Classifier Results calculated in: 0.12171578407287598 s\n",
      "Confusion Matrix of Decision Tree Classifier: \n",
      " [[11338  8229]\n",
      " [    0 25582]]\n",
      "\n",
      "\n",
      "Calculated Metrics: \n",
      "\n",
      "accuracy: 0.817736826950763\n",
      "\n",
      "precision: 1.0\n",
      "\n",
      "recall: 0.7566176688060099\n",
      "\n",
      "f1 score: 0.8614483188254508\n"
     ]
    }
   ],
   "source": [
    "mlBuilder.DecisionTreeClassifier(maxDepth=1)"
   ]
  },
  {
   "cell_type": "markdown",
   "id": "8befd836",
   "metadata": {},
   "source": [
    "## Using Differential Privacy "
   ]
  },
  {
   "cell_type": "code",
   "execution_count": 75,
   "id": "86353854",
   "metadata": {},
   "outputs": [
    {
     "name": "stdout",
     "output_type": "stream",
     "text": [
      "Differential NaiveBayes Results calculated in: 0.1285390853881836 s\n",
      "Confusion Matrix of Naive Bayes Classifier: \n",
      " [[18504  1063]\n",
      " [ 9330 16252]]\n",
      "\n",
      "\n",
      "Calculated Metrics: \n",
      "\n",
      "accuracy: 0.7698066402356641\n",
      "\n",
      "precision: 0.6352904385896333\n",
      "\n",
      "recall: 0.9386081432284147\n",
      "\n",
      "f1 score: 0.7577219852204117\n"
     ]
    },
    {
     "name": "stderr",
     "output_type": "stream",
     "text": [
      "/Users/batuhanduyuler/opt/anaconda3/envs/batuenv/lib/python3.7/site-packages/diffprivlib/models/naive_bayes.py:101: PrivacyLeakWarning: Bounds have not been specified and will be calculated on the data provided. This will result in additional privacy leakage. To ensure differential privacy and no additional privacy leakage, specify bounds for each dimension.\n",
      "  \"privacy leakage, specify bounds for each dimension.\", PrivacyLeakWarning)\n"
     ]
    }
   ],
   "source": [
    "mlBuilder.DifferentialNaiveBayes()"
   ]
  },
  {
   "cell_type": "code",
   "execution_count": 76,
   "id": "e1b90355",
   "metadata": {},
   "outputs": [
    {
     "name": "stderr",
     "output_type": "stream",
     "text": [
      "/Users/batuhanduyuler/opt/anaconda3/envs/batuenv/lib/python3.7/site-packages/diffprivlib/models/forest.py:371: PrivacyLeakWarning: feature_domains parameter hasn't been specified, so falling back to determining domains from the data.\n",
      "This may result in additional privacy leakage. To ensure differential privacy with no additional privacy loss, specify `feature_domains` according to the documentation\n",
      "  PrivacyLeakWarning)\n"
     ]
    },
    {
     "name": "stdout",
     "output_type": "stream",
     "text": [
      "Differential Decision Tree Classifier Results calculated in: 1.4870119094848633 s\n",
      "Confusion Matrix of Differential Decision Tree Classifier: \n",
      " [[16306  3261]\n",
      " [ 9338 16244]]\n",
      "\n",
      "\n",
      "Calculated Metrics: \n",
      "\n",
      "accuracy: 0.720946200358812\n",
      "\n",
      "precision: 0.6349777187084669\n",
      "\n",
      "recall: 0.8328120994616764\n",
      "\n",
      "f1 score: 0.7205624681171955\n"
     ]
    }
   ],
   "source": [
    "mlBuilder.DifferentialDecisionTreeClassifier()"
   ]
  },
  {
   "cell_type": "code",
   "execution_count": 68,
   "id": "a91765f5",
   "metadata": {},
   "outputs": [],
   "source": [
    "processMondayTest = processedMonday[bestFeatures][:50000]\n",
    "processedSynTest = processedSyn[bestFeatures][:50000]\n",
    "\n",
    "MondayTestLabel = np.array(processedMonday[\" Label\"][:50000])\n",
    "SynTestLabel = np.array(processedSyn[\" Label\"][:50000])"
   ]
  },
  {
   "cell_type": "code",
   "execution_count": 69,
   "id": "2e88ede6",
   "metadata": {},
   "outputs": [
    {
     "name": "stdout",
     "output_type": "stream",
     "text": [
      "Accuracy for Monday GNB: 40.780000\n",
      "Accuracy for Monday DecisionTree: 57.742000\n"
     ]
    }
   ],
   "source": [
    "predictionsMondayNaive = mlBuilder.predict(processMondayTest.values, \"naive_bayes\")\n",
    "predictionsMondayDecisionTree = mlBuilder.predict(processMondayTest.values, \"decision_tree\")\n",
    "\n",
    "from sklearn.metrics import accuracy_score\n",
    "print('Accuracy for Monday GNB: %f' % (accuracy_score(predictionsMondayNaive, MondayTestLabel)*100))\n",
    "print('Accuracy for Monday DecisionTree: %f' % (accuracy_score(predictionsMondayDecisionTree, MondayTestLabel)*100))"
   ]
  },
  {
   "cell_type": "code",
   "execution_count": 70,
   "id": "2877668f",
   "metadata": {},
   "outputs": [
    {
     "name": "stdout",
     "output_type": "stream",
     "text": [
      "Accuracy for Syn GNB: 59.214000\n",
      "Accuracy for Syn DecisionTree: 0.112000\n"
     ]
    }
   ],
   "source": [
    "predictionsSynNaive = mlBuilder.predict(processMondayTest.values, \"naive_bayes\")\n",
    "predictionsSynDecisionTree = mlBuilder.predict(processedSynTest.values, \"decision_tree\")\n",
    "\n",
    "from sklearn.metrics import accuracy_score\n",
    "print('Accuracy for Syn GNB: %f' % (accuracy_score(predictionsSynNaive, SynTestLabel)*100))\n",
    "print('Accuracy for Syn DecisionTree: %f' % (accuracy_score(predictionsSynDecisionTree, SynTestLabel)*100))"
   ]
  },
  {
   "cell_type": "code",
   "execution_count": 39,
   "id": "461ab7ef",
   "metadata": {},
   "outputs": [
    {
     "name": "stdout",
     "output_type": "stream",
     "text": [
      "|--- feature_1 <= 0.00\n",
      "|   |--- class: 1\n",
      "|--- feature_1 >  0.00\n",
      "|   |--- class: 0\n",
      "\n"
     ]
    }
   ],
   "source": [
    "text_representation = tree.export_text(mlBuilder.decisionTreeClassifier)\n",
    "print(text_representation)"
   ]
  },
  {
   "cell_type": "code",
   "execution_count": 40,
   "id": "210c54a2",
   "metadata": {},
   "outputs": [
    {
     "data": {
      "image/svg+xml": [
       "<?xml version=\"1.0\" encoding=\"UTF-8\" standalone=\"no\"?>\n",
       "<!DOCTYPE svg PUBLIC \"-//W3C//DTD SVG 1.1//EN\"\n",
       " \"http://www.w3.org/Graphics/SVG/1.1/DTD/svg11.dtd\">\n",
       "<!-- Generated by graphviz version 2.40.1 (20161225.0304)\n",
       " -->\n",
       "<!-- Title: Tree Pages: 1 -->\n",
       "<svg width=\"322pt\" height=\"195pt\"\n",
       " viewBox=\"0.00 0.00 321.50 195.00\" xmlns=\"http://www.w3.org/2000/svg\" xmlns:xlink=\"http://www.w3.org/1999/xlink\">\n",
       "<g id=\"graph0\" class=\"graph\" transform=\"scale(1 1) rotate(0) translate(4 191)\">\n",
       "<title>Tree</title>\n",
       "<polygon fill=\"#ffffff\" stroke=\"transparent\" points=\"-4,4 -4,-191 317.5,-191 317.5,4 -4,4\"/>\n",
       "<!-- 0 -->\n",
       "<g id=\"node1\" class=\"node\">\n",
       "<title>0</title>\n",
       "<polygon fill=\"#d0e8f9\" stroke=\"#000000\" points=\"256,-187 77,-187 77,-104 256,-104 256,-187\"/>\n",
       "<text text-anchor=\"middle\" x=\"166.5\" y=\"-171.8\" font-family=\"Helvetica,sans-Serif\" font-size=\"14.00\" fill=\"#000000\"> Destination Port &lt;= 0.001</text>\n",
       "<text text-anchor=\"middle\" x=\"166.5\" y=\"-156.8\" font-family=\"Helvetica,sans-Serif\" font-size=\"14.00\" fill=\"#000000\">gini = 0.491</text>\n",
       "<text text-anchor=\"middle\" x=\"166.5\" y=\"-141.8\" font-family=\"Helvetica,sans-Serif\" font-size=\"14.00\" fill=\"#000000\">samples = 180592</text>\n",
       "<text text-anchor=\"middle\" x=\"166.5\" y=\"-126.8\" font-family=\"Helvetica,sans-Serif\" font-size=\"14.00\" fill=\"#000000\">value = [78147, 102445]</text>\n",
       "<text text-anchor=\"middle\" x=\"166.5\" y=\"-111.8\" font-family=\"Helvetica,sans-Serif\" font-size=\"14.00\" fill=\"#000000\">class = Normal</text>\n",
       "</g>\n",
       "<!-- 1 -->\n",
       "<g id=\"node2\" class=\"node\">\n",
       "<title>1</title>\n",
       "<polygon fill=\"#79bded\" stroke=\"#000000\" points=\"167,-68 0,-68 0,0 167,0 167,-68\"/>\n",
       "<text text-anchor=\"middle\" x=\"83.5\" y=\"-52.8\" font-family=\"Helvetica,sans-Serif\" font-size=\"14.00\" fill=\"#000000\">gini = 0.37</text>\n",
       "<text text-anchor=\"middle\" x=\"83.5\" y=\"-37.8\" font-family=\"Helvetica,sans-Serif\" font-size=\"14.00\" fill=\"#000000\">samples = 135655</text>\n",
       "<text text-anchor=\"middle\" x=\"83.5\" y=\"-22.8\" font-family=\"Helvetica,sans-Serif\" font-size=\"14.00\" fill=\"#000000\">value = [33213, 102442]</text>\n",
       "<text text-anchor=\"middle\" x=\"83.5\" y=\"-7.8\" font-family=\"Helvetica,sans-Serif\" font-size=\"14.00\" fill=\"#000000\">class = Normal</text>\n",
       "</g>\n",
       "<!-- 0&#45;&gt;1 -->\n",
       "<g id=\"edge1\" class=\"edge\">\n",
       "<title>0&#45;&gt;1</title>\n",
       "<path fill=\"none\" stroke=\"#000000\" d=\"M135.5939,-103.9815C128.8892,-94.9747 121.7892,-85.4367 115.0597,-76.3965\"/>\n",
       "<polygon fill=\"#000000\" stroke=\"#000000\" points=\"117.7845,-74.1953 109.0057,-68.2637 112.1694,-78.3752 117.7845,-74.1953\"/>\n",
       "<text text-anchor=\"middle\" x=\"105.3812\" y=\"-89.2995\" font-family=\"Helvetica,sans-Serif\" font-size=\"14.00\" fill=\"#000000\">True</text>\n",
       "</g>\n",
       "<!-- 2 -->\n",
       "<g id=\"node3\" class=\"node\">\n",
       "<title>2</title>\n",
       "<polygon fill=\"#e58139\" stroke=\"#000000\" points=\"313.5,-68 185.5,-68 185.5,0 313.5,0 313.5,-68\"/>\n",
       "<text text-anchor=\"middle\" x=\"249.5\" y=\"-52.8\" font-family=\"Helvetica,sans-Serif\" font-size=\"14.00\" fill=\"#000000\">gini = 0.0</text>\n",
       "<text text-anchor=\"middle\" x=\"249.5\" y=\"-37.8\" font-family=\"Helvetica,sans-Serif\" font-size=\"14.00\" fill=\"#000000\">samples = 44937</text>\n",
       "<text text-anchor=\"middle\" x=\"249.5\" y=\"-22.8\" font-family=\"Helvetica,sans-Serif\" font-size=\"14.00\" fill=\"#000000\">value = [44934, 3]</text>\n",
       "<text text-anchor=\"middle\" x=\"249.5\" y=\"-7.8\" font-family=\"Helvetica,sans-Serif\" font-size=\"14.00\" fill=\"#000000\">class = DDoS</text>\n",
       "</g>\n",
       "<!-- 0&#45;&gt;2 -->\n",
       "<g id=\"edge2\" class=\"edge\">\n",
       "<title>0&#45;&gt;2</title>\n",
       "<path fill=\"none\" stroke=\"#000000\" d=\"M197.4061,-103.9815C204.1108,-94.9747 211.2108,-85.4367 217.9403,-76.3965\"/>\n",
       "<polygon fill=\"#000000\" stroke=\"#000000\" points=\"220.8306,-78.3752 223.9943,-68.2637 215.2155,-74.1953 220.8306,-78.3752\"/>\n",
       "<text text-anchor=\"middle\" x=\"227.6188\" y=\"-89.2995\" font-family=\"Helvetica,sans-Serif\" font-size=\"14.00\" fill=\"#000000\">False</text>\n",
       "</g>\n",
       "</g>\n",
       "</svg>\n"
      ],
      "text/plain": [
       "<graphviz.sources.Source at 0x7f8f39f09710>"
      ]
     },
     "execution_count": 40,
     "metadata": {},
     "output_type": "execute_result"
    }
   ],
   "source": [
    "from sklearn import tree\n",
    "import graphviz\n",
    "# DOT data\n",
    "dot_data = tree.export_graphviz(mlBuilder.decisionTreeClassifier, out_file=None, \n",
    "                                feature_names=processedSynTest.columns,  \n",
    "                                class_names=[\"DDoS\", \"Normal\"],\n",
    "                                filled=True)\n",
    "\n",
    "# Draw graph\n",
    "graph = graphviz.Source(dot_data, format=\"png\") \n",
    "graph"
   ]
  },
  {
   "cell_type": "code",
   "execution_count": 35,
   "id": "52284495",
   "metadata": {},
   "outputs": [
    {
     "data": {
      "text/plain": [
       "'decision_tree_graphivz.png'"
      ]
     },
     "execution_count": 35,
     "metadata": {},
     "output_type": "execute_result"
    }
   ],
   "source": [
    "graph.render(\"decision_tree_graphivz\")"
   ]
  },
  {
   "cell_type": "markdown",
   "id": "751f88e8",
   "metadata": {},
   "source": [
    "## Convolutional Neural Networks (1D) "
   ]
  },
  {
   "cell_type": "code",
   "execution_count": 44,
   "id": "bcf457af",
   "metadata": {},
   "outputs": [],
   "source": [
    "from DLMethodBuilder import DLMethodBuilder"
   ]
  },
  {
   "cell_type": "code",
   "execution_count": 45,
   "id": "5a821978",
   "metadata": {},
   "outputs": [
    {
     "name": "stdout",
     "output_type": "stream",
     "text": [
      "Generic Method Builder is invoke.\n",
      "DL Builder is invoke\n",
      "Model: \"sequential_2\"\n",
      "_________________________________________________________________\n",
      "Layer (type)                 Output Shape              Param #   \n",
      "=================================================================\n",
      "conv1d_3 (Conv1D)            (None, 61, 64)            256       \n",
      "_________________________________________________________________\n",
      "conv1d_4 (Conv1D)            (None, 59, 32)            6176      \n",
      "_________________________________________________________________\n",
      "max_pooling1d_2 (MaxPooling1 (None, 29, 32)            0         \n",
      "_________________________________________________________________\n",
      "flatten_2 (Flatten)          (None, 928)               0         \n",
      "_________________________________________________________________\n",
      "dense_2 (Dense)              (None, 1)                 929       \n",
      "=================================================================\n",
      "Total params: 7,361\n",
      "Trainable params: 7,361\n",
      "Non-trainable params: 0\n",
      "_________________________________________________________________\n"
     ]
    }
   ],
   "source": [
    "dlBuilderWithFullData = DLMethodBuilder(processedFriday)\n",
    "dlBuilderWithFullData.ConvolutionalNeuralNetwork()"
   ]
  },
  {
   "cell_type": "code",
   "execution_count": 46,
   "id": "d7ea3b7a",
   "metadata": {},
   "outputs": [
    {
     "name": "stdout",
     "output_type": "stream",
     "text": [
      "Data will split.\n",
      "Train on 180592 samples, validate on 45149 samples\n",
      "Epoch 1/5\n",
      "180592/180592 [==============================] - 95s 524us/step - loss: 0.4593 - accuracy: 0.5699 - val_loss: 0.4214 - val_accuracy: 0.5666\n",
      "Epoch 2/5\n",
      "180592/180592 [==============================] - 93s 514us/step - loss: 0.3709 - accuracy: 0.6615 - val_loss: 0.2933 - val_accuracy: 0.9148\n",
      "Epoch 3/5\n",
      "180592/180592 [==============================] - 95s 525us/step - loss: 0.2023 - accuracy: 0.9483 - val_loss: 0.1260 - val_accuracy: 0.9615\n",
      "Epoch 4/5\n",
      "180592/180592 [==============================] - 94s 519us/step - loss: 0.0889 - accuracy: 0.9660 - val_loss: 0.0666 - val_accuracy: 0.9674\n",
      "Epoch 5/5\n",
      "180592/180592 [==============================] - 93s 517us/step - loss: 0.0563 - accuracy: 0.9689 - val_loss: 0.0497 - val_accuracy: 0.9688\n",
      "1D CNN Results calculated in: 469.8543827533722 s\n"
     ]
    }
   ],
   "source": [
    "dlBuilderWithFullData.start_to_compile(epochNum = 5, batchSize = 256)"
   ]
  },
  {
   "cell_type": "code",
   "execution_count": 71,
   "id": "51b0eb56",
   "metadata": {},
   "outputs": [],
   "source": [
    "predictionsMonday = dlBuilderWithFullData.predict(processedMonday.drop([\" Label\"], axis = 1)[:50000].values)\n",
    "predictionsSyn = dlBuilderWithFullData.predict(processedSyn.drop([\" Label\"], axis = 1)[:50000].values)"
   ]
  },
  {
   "cell_type": "code",
   "execution_count": 72,
   "id": "2469647a",
   "metadata": {},
   "outputs": [],
   "source": [
    "def labelPredictions(predictionList: np.array, dataName: str) -> list: \n",
    "    labeledPredictions = []            \n",
    "    thrRatio = 1.65\n",
    "    threshold = np.mean(predictionList) + thrRatio * np.std(predictionList)\n",
    "    for elem in predictionList : \n",
    "        if elem > threshold:\n",
    "            if (dataName == \"syn\"):\n",
    "                labeledPredictions.append(0)\n",
    "            else:\n",
    "                labeledPredictions.append(1)\n",
    "        else:\n",
    "            if (dataName == \"syn\"):\n",
    "                labeledPredictions.append(1)\n",
    "            else:           \n",
    "                labeledPredictions.append(0)\n",
    "                \n",
    "    return labeledPredictions"
   ]
  },
  {
   "cell_type": "code",
   "execution_count": 73,
   "id": "5b113916",
   "metadata": {},
   "outputs": [],
   "source": [
    "labeledMondayPredictions = labelPredictions(predictionsMonday, \"monday\")\n",
    "labeledSynPredictions = labelPredictions(predictionsSyn, \"syn\")"
   ]
  },
  {
   "cell_type": "code",
   "execution_count": 74,
   "id": "b6c23f7a",
   "metadata": {},
   "outputs": [
    {
     "name": "stdout",
     "output_type": "stream",
     "text": [
      "Accuracy: 86.802000\n",
      "Accuracy: 89.098000\n"
     ]
    }
   ],
   "source": [
    "from sklearn.metrics import accuracy_score\n",
    "print('Accuracy: %f' % (accuracy_score(labeledMondayPredictions, MondayTestLabel)*100))\n",
    "print('Accuracy: %f' % (accuracy_score(labeledSynPredictions, SynTestLabel)*100))"
   ]
  },
  {
   "cell_type": "code",
   "execution_count": null,
   "id": "b173b3e9",
   "metadata": {},
   "outputs": [],
   "source": []
  },
  {
   "cell_type": "code",
   "execution_count": null,
   "id": "8da40efc",
   "metadata": {},
   "outputs": [],
   "source": []
  }
 ],
 "metadata": {
  "kernelspec": {
   "display_name": "Python 3 (ipykernel)",
   "language": "python",
   "name": "python3"
  },
  "language_info": {
   "codemirror_mode": {
    "name": "ipython",
    "version": 3
   },
   "file_extension": ".py",
   "mimetype": "text/x-python",
   "name": "python",
   "nbconvert_exporter": "python",
   "pygments_lexer": "ipython3",
   "version": "3.7.13"
  }
 },
 "nbformat": 4,
 "nbformat_minor": 5
}
