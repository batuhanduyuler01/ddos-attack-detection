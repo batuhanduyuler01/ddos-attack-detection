{
 "cells": [
  {
   "cell_type": "markdown",
   "id": "958a3a76",
   "metadata": {},
   "source": [
    "# DDoS Attack Detection With ML & DL and Differential Privacy Concept"
   ]
  },
  {
   "cell_type": "markdown",
   "id": "3f90906e",
   "metadata": {},
   "source": [
    "### 1.Data Preprocessing "
   ]
  },
  {
   "cell_type": "code",
   "execution_count": 1,
   "id": "42143821",
   "metadata": {},
   "outputs": [],
   "source": [
    "import pandas as pd\n",
    "import numpy as np\n",
    "import matplotlib.pyplot as plt\n",
    "\n",
    "import sys\n",
    "sys.path.insert(0, '../source/')\n",
    "from DataProcessor import DataProcessor"
   ]
  },
  {
   "cell_type": "code",
   "execution_count": 2,
   "id": "37233a66",
   "metadata": {},
   "outputs": [],
   "source": [
    "def find_common_features(my_A, my_B, my_C):\n",
    "   my_s1 = set(my_A)\n",
    "   my_s2 = set(my_B)\n",
    "   my_s3 = set(my_C)\n",
    "   my_set1 = my_s1.intersection(my_s2)\n",
    "   output_set = my_set1.intersection(my_s3)\n",
    "   output_list = list(output_set)\n",
    "   return output_list"
   ]
  },
  {
   "cell_type": "code",
   "execution_count": 3,
   "id": "c31a9c09",
   "metadata": {},
   "outputs": [],
   "source": [
    "def process_basics_for_data(dataframe : pd.DataFrame) -> pd.DataFrame :\n",
    "    dataProcessor: DataProcessor = DataProcessor(dataframe)\n",
    "    scaledData = dataProcessor.min_max_scaler(dataframe)\n",
    "    encodedScaledData = dataProcessor.label_encoder(scaledData)\n",
    "    return encodedScaledData"
   ]
  },
  {
   "cell_type": "code",
   "execution_count": null,
   "id": "0b56fe72",
   "metadata": {},
   "outputs": [],
   "source": [
    "mondayDataset: pd.DataFrame = pd.read_csv(\n",
    "    \"../verisetleri/Monday-WorkingHours.pcap_ISCX.csv\", low_memory=False)\n",
    "    \n",
    "fridayDataSet: pd.DataFrame = pd.read_csv(\n",
    "    \"../verisetleri/Friday-WorkingHours-Afternoon-DDos.pcap_ISCX.csv\", low_memory=False)\n",
    "    \n",
    "synDataset : pd.DataFrame = pd.read_csv(\"../verisetleri/01-12/Syn.csv\", low_memory = False)"
   ]
  },
  {
   "cell_type": "code",
   "execution_count": null,
   "id": "fa593c57",
   "metadata": {},
   "outputs": [],
   "source": [
    "commonColumns = find_common_features(mondayDataset.columns, fridayDataSet.columns, synDataset.columns)\n",
    "mondayDataset = mondayDataset[commonColumns]\n",
    "fridayDataSet = fridayDataSet[commonColumns]\n",
    "synDataset = synDataset[commonColumns]"
   ]
  },
  {
   "cell_type": "code",
   "execution_count": null,
   "id": "07c1f324",
   "metadata": {},
   "outputs": [],
   "source": [
    "processedMonday = process_basics_for_data(mondayDataset)\n",
    "processedFriday = process_basics_for_data(fridayDataSet)\n",
    "processedSyn = process_basics_for_data(synDataset)"
   ]
  },
  {
   "cell_type": "code",
   "execution_count": null,
   "id": "52ae6cd8",
   "metadata": {},
   "outputs": [],
   "source": [
    "commonColumns = find_common_features(processedMonday.columns, processedFriday.columns, processedSyn.columns)\n",
    "processedMonday = processedMonday[commonColumns]\n",
    "processedFriday = processedFriday[commonColumns]\n",
    "processedSyn = processedSyn[commonColumns]"
   ]
  },
  {
   "cell_type": "markdown",
   "id": "5342089b",
   "metadata": {},
   "source": [
    "### 2. Feature Selection For Machine Learning"
   ]
  },
  {
   "cell_type": "code",
   "execution_count": null,
   "id": "b7fd189d",
   "metadata": {},
   "outputs": [],
   "source": [
    "dataProcessor: DataProcessor = DataProcessor(processedFriday)\n",
    "bestFeatureFrame = dataProcessor.chi_square_feature_selector(processedFriday)\n",
    "bestFeatures = bestFeatureFrame.Specs"
   ]
  },
  {
   "cell_type": "code",
   "execution_count": null,
   "id": "c763de2f",
   "metadata": {},
   "outputs": [],
   "source": [
    "corrDataframe  = pd.concat([processedFriday[bestFeatures], processedFriday[\" Label\"]], axis = 1)\n",
    "corrDataframe = corrDataframe.reset_index()"
   ]
  },
  {
   "cell_type": "code",
   "execution_count": null,
   "id": "e51b3940",
   "metadata": {},
   "outputs": [],
   "source": [
    "corrDataframe = corrDataframe.drop([\"index\"], axis=1)\n",
    "corrDataframe"
   ]
  },
  {
   "cell_type": "code",
   "execution_count": null,
   "id": "131c8194",
   "metadata": {},
   "outputs": [],
   "source": [
    "dataProcessor.print_correlation_matrix(corrDataframe)"
   ]
  },
  {
   "cell_type": "markdown",
   "id": "aba420de",
   "metadata": {},
   "source": [
    "## Machine Learning Methods "
   ]
  },
  {
   "cell_type": "code",
   "execution_count": null,
   "id": "41e6f64b",
   "metadata": {},
   "outputs": [],
   "source": [
    "import MLMethodBuilder as mlbuilder;\n",
    "mlBuilder = mlbuilder.MLMethodBuilder(corrDataframe)"
   ]
  },
  {
   "cell_type": "code",
   "execution_count": null,
   "id": "92d3dd7c",
   "metadata": {},
   "outputs": [],
   "source": [
    "mlBuilder.NaiveBayes()"
   ]
  },
  {
   "cell_type": "code",
   "execution_count": null,
   "id": "c477a88f",
   "metadata": {
    "scrolled": true
   },
   "outputs": [],
   "source": [
    "mlBuilder.DecisionTreeClassifier()"
   ]
  },
  {
   "cell_type": "markdown",
   "id": "75d7bcf3",
   "metadata": {},
   "source": [
    "## Using Differential Privacy "
   ]
  },
  {
   "cell_type": "code",
   "execution_count": null,
   "id": "c40d26a3",
   "metadata": {},
   "outputs": [],
   "source": [
    "mlBuilder.DifferentialNaiveBayes()"
   ]
  },
  {
   "cell_type": "code",
   "execution_count": null,
   "id": "8a64b150",
   "metadata": {},
   "outputs": [],
   "source": [
    "mlBuilder.DifferentialDecisionTreeClassifier()"
   ]
  },
  {
   "cell_type": "code",
   "execution_count": null,
   "id": "46ab3d8d",
   "metadata": {},
   "outputs": [],
   "source": [
    "processMondayTest = processedMonday[bestFeatures][:10000]\n",
    "processedSynTest = processedSyn[bestFeatures][:10000]\n",
    "\n",
    "MondayTestLabel = np.array(processedMonday[\" Label\"][:10000])\n",
    "SynTestLabel = np.array(processedSyn[\" Label\"][:10000])"
   ]
  },
  {
   "cell_type": "code",
   "execution_count": null,
   "id": "6f20659d",
   "metadata": {},
   "outputs": [],
   "source": [
    "predictionsMondayNaive = mlBuilder.predict(processMondayTest.values, \"naive_bayes\")\n",
    "predictionsMondayDecisionTree = mlBuilder.predict(processMondayTest.values, \"decision_tree\")\n",
    "\n",
    "from sklearn.metrics import accuracy_score\n",
    "print('Accuracy for Monday GNB: %f' % (accuracy_score(predictionsMondayNaive, MondayTestLabel)*100))\n",
    "print('Accuracy for Monday DecisionTree: %f' % (accuracy_score(predictionsMondayDecisionTree, MondayTestLabel)*100))"
   ]
  },
  {
   "cell_type": "code",
   "execution_count": null,
   "id": "a253ef68",
   "metadata": {},
   "outputs": [],
   "source": [
    "predictionsSynNaive = mlBuilder.predict(processMondayTest.values, \"naive_bayes\")\n",
    "predictionsSynDecisionTree = mlBuilder.predict(processedSynTest.values, \"decision_tree\")\n",
    "\n",
    "from sklearn.metrics import accuracy_score\n",
    "print('Accuracy for Syn GNB: %f' % (accuracy_score(predictionsSynNaive, SynTestLabel)*100))\n",
    "print('Accuracy for Syn DecisionTree: %f' % (accuracy_score(predictionsSynDecisionTree, SynTestLabel)*100))"
   ]
  },
  {
   "cell_type": "markdown",
   "id": "6e48bd42",
   "metadata": {},
   "source": [
    "## Convolutional Neural Networks (1D) "
   ]
  },
  {
   "cell_type": "code",
   "execution_count": null,
   "id": "bcf457af",
   "metadata": {},
   "outputs": [],
   "source": [
    "from DLMethodBuilder import DLMethodBuilder"
   ]
  },
  {
   "cell_type": "code",
   "execution_count": null,
   "id": "0de192cd",
   "metadata": {},
   "outputs": [],
   "source": [
    "dlBuilderWithFullData = DLMethodBuilder(processedFriday)\n",
    "dlBuilderWithFullData.ConvolutionalNeuralNetwork()"
   ]
  },
  {
   "cell_type": "code",
   "execution_count": null,
   "id": "5114e1f2",
   "metadata": {},
   "outputs": [],
   "source": [
    "dlBuilderWithFullData.start_to_compile(epochNum = 10, batchSize = 256)"
   ]
  },
  {
   "cell_type": "code",
   "execution_count": null,
   "id": "a57e6427",
   "metadata": {},
   "outputs": [],
   "source": [
    "predictionsMonday = dlBuilderWithFullData.predict(processedMonday.drop([\" Label\"], axis = 1)[:10000].values)\n",
    "predictionsSyn = dlBuilderWithFullData.predict(processedSyn.drop([\" Label\"], axis = 1)[:10000].values)"
   ]
  },
  {
   "cell_type": "code",
   "execution_count": null,
   "id": "a6b13ccf",
   "metadata": {},
   "outputs": [],
   "source": [
    "def labelPredictions(predictionList: np.array) -> list: \n",
    "    labeledPredictions = []\n",
    "    thrRatio = 1.65\n",
    "    threshold = np.mean(predictionList) + thrRatio * np.std(predictionList)\n",
    "    for elem in predictionList : \n",
    "        if elem > threshold:\n",
    "            labeledPredictions.append(1)\n",
    "        else:\n",
    "            labeledPredictions.append(0)\n",
    "    return labeledPredictions"
   ]
  },
  {
   "cell_type": "code",
   "execution_count": null,
   "id": "1ac6d4cd",
   "metadata": {},
   "outputs": [],
   "source": [
    "labeledMondayPredictions = labelPredictions(predictionsMonday)\n",
    "labeledSynPredictions = labelPredictions(predictionsSyn)"
   ]
  },
  {
   "cell_type": "code",
   "execution_count": null,
   "id": "91b1e7d4",
   "metadata": {},
   "outputs": [],
   "source": [
    "from sklearn.metrics import accuracy_score\n",
    "print('Accuracy: %f' % (accuracy_score(labeledMondayPredictions, MondayTestLabel)*100))\n",
    "print('Accuracy: %f' % (accuracy_score(labeledSynPredictions, MondayTestLabel)*100))"
   ]
  },
  {
   "cell_type": "code",
   "execution_count": null,
   "id": "6d683184",
   "metadata": {},
   "outputs": [],
   "source": []
  }
 ],
 "metadata": {
  "kernelspec": {
   "display_name": "Python 3 (ipykernel)",
   "language": "python",
   "name": "python3"
  },
  "language_info": {
   "codemirror_mode": {
    "name": "ipython",
    "version": 3
   },
   "file_extension": ".py",
   "mimetype": "text/x-python",
   "name": "python",
   "nbconvert_exporter": "python",
   "pygments_lexer": "ipython3",
   "version": "3.7.13"
  }
 },
 "nbformat": 4,
 "nbformat_minor": 5
}
