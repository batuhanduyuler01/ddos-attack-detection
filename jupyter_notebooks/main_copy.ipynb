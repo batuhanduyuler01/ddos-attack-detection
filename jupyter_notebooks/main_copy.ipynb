{
 "cells": [
  {
   "cell_type": "code",
   "execution_count": 1,
   "id": "51141e3a",
   "metadata": {},
   "outputs": [],
   "source": [
    "import pandas as pd\n",
    "import numpy as np\n",
    "import matplotlib.pyplot as plt\n",
    "\n",
    "import sys\n",
    "sys.path.insert(0, '../source/')\n",
    "import DataProcessor as dp"
   ]
  },
  {
   "cell_type": "code",
   "execution_count": 2,
   "id": "d51c94f9",
   "metadata": {},
   "outputs": [],
   "source": [
    "fridayDataSet: pd.DataFrame = pd.read_csv(\n",
    "    \"../verisetleri/Friday-WorkingHours-Afternoon-DDos.pcap_ISCX.csv\", low_memory=False)"
   ]
  },
  {
   "cell_type": "code",
   "execution_count": 3,
   "id": "fa7a9558",
   "metadata": {},
   "outputs": [
    {
     "name": "stdout",
     "output_type": "stream",
     "text": [
      "Include NaN:  False\n"
     ]
    }
   ],
   "source": [
    "dataProcessor: dp.DataProcessor = dp.DataProcessor(fridayDataSet)\n",
    "scaledData = dataProcessor.min_max_scaler(fridayDataSet)\n",
    "print(\"Include NaN: \", np.any(np.isnan(scaledData.drop([\" Label\"], axis=1))))"
   ]
  },
  {
   "cell_type": "code",
   "execution_count": 4,
   "id": "bb2f1bad",
   "metadata": {},
   "outputs": [
    {
     "name": "stdout",
     "output_type": "stream",
     "text": [
      "Output of ChiSquare Feature Selector\n",
      "                      Specs         Score\n",
      "43           URG Flag Count  41617.123081\n",
      "0          Destination Port  39345.753421\n",
      "10    Bwd Packet Length Max  32325.617363\n",
      "13    Bwd Packet Length Std  22329.356165\n",
      "12   Bwd Packet Length Mean  19963.264339\n",
      "48     Avg Bwd Segment Size  19963.264339\n",
      "34        Max Packet Length  14957.905366\n",
      "35       Packet Length Mean  14596.850204\n",
      "23            Bwd IAT Total  14066.375959\n",
      "36        Packet Length Std  13947.536377\n"
     ]
    }
   ],
   "source": [
    "bestFeatureFrame = dataProcessor.chi_square_feature_selector(scaledData)\n",
    "bestFeatures = bestFeatureFrame.Specs"
   ]
  },
  {
   "cell_type": "code",
   "execution_count": 5,
   "id": "b398126c",
   "metadata": {},
   "outputs": [],
   "source": [
    "corrDataframe  = pd.concat([scaledData[bestFeatures], scaledData[\" Label\"]], axis = 1)"
   ]
  },
  {
   "cell_type": "code",
   "execution_count": 6,
   "id": "dccc9326",
   "metadata": {},
   "outputs": [],
   "source": [
    "corrDataframe = dataProcessor.label_encoder(corrDataframe)"
   ]
  },
  {
   "cell_type": "code",
   "execution_count": null,
   "id": "1d606c56",
   "metadata": {},
   "outputs": [],
   "source": [
    "dataProcessor.print_correlation_matrix(corrDataframe)"
   ]
  },
  {
   "cell_type": "code",
   "execution_count": null,
   "id": "d3f36ca2",
   "metadata": {},
   "outputs": [],
   "source": [
    "corrDataframe"
   ]
  },
  {
   "cell_type": "code",
   "execution_count": null,
   "id": "e5f24dff",
   "metadata": {},
   "outputs": [],
   "source": [
    "import MLMethodBuilder as mlbuilder;\n",
    "mlBuilder = mlbuilder.MLMethodBuilder(corrDataframe)"
   ]
  },
  {
   "cell_type": "code",
   "execution_count": null,
   "id": "778158ed",
   "metadata": {},
   "outputs": [],
   "source": [
    "mlBuilder.split_data(0.2)"
   ]
  },
  {
   "cell_type": "code",
   "execution_count": null,
   "id": "ca7dd9f5",
   "metadata": {},
   "outputs": [],
   "source": [
    "mlBuilder.SVM(\"rbf\")"
   ]
  },
  {
   "cell_type": "code",
   "execution_count": null,
   "id": "7d3956a0",
   "metadata": {},
   "outputs": [],
   "source": []
  }
 ],
 "metadata": {
  "kernelspec": {
   "display_name": "Python 3 (ipykernel)",
   "language": "python",
   "name": "python3"
  },
  "language_info": {
   "codemirror_mode": {
    "name": "ipython",
    "version": 3
   },
   "file_extension": ".py",
   "mimetype": "text/x-python",
   "name": "python",
   "nbconvert_exporter": "python",
   "pygments_lexer": "ipython3",
   "version": "3.9.7"
  }
 },
 "nbformat": 4,
 "nbformat_minor": 5
}
