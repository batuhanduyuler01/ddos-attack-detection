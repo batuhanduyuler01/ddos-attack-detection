{
 "cells": [
  {
   "cell_type": "code",
   "execution_count": 1,
   "id": "bd7354f2",
   "metadata": {},
   "outputs": [],
   "source": [
    "import pandas as pd\n",
    "import numpy as np\n",
    "import matplotlib.pyplot as plt"
   ]
  },
  {
   "cell_type": "code",
   "execution_count": 19,
   "id": "c0c340fb",
   "metadata": {},
   "outputs": [],
   "source": [
    "fridayDataSet = pd.read_csv(\"../verisetleri/Friday-WorkingHours-Afternoon-DDos.pcap_ISCX.csv\")\n",
    "mondayDataSet = pd.read_csv(\"../verisetleri/Monday-WorkingHours.pcap_ISCX.csv\")"
   ]
  },
  {
   "cell_type": "code",
   "execution_count": 20,
   "id": "000ac167",
   "metadata": {},
   "outputs": [
    {
     "data": {
      "text/plain": [
       "array(['BENIGN', 'DDoS'], dtype=object)"
      ]
     },
     "execution_count": 20,
     "metadata": {},
     "output_type": "execute_result"
    }
   ],
   "source": [
    "fridayDataSet[\" Label\"].unique()"
   ]
  },
  {
   "cell_type": "code",
   "execution_count": 21,
   "id": "bf9a7d5a",
   "metadata": {},
   "outputs": [
    {
     "data": {
      "text/plain": [
       "array(['BENIGN'], dtype=object)"
      ]
     },
     "execution_count": 21,
     "metadata": {},
     "output_type": "execute_result"
    }
   ],
   "source": [
    "mondayDataSet[\" Label\"].unique()"
   ]
  },
  {
   "cell_type": "code",
   "execution_count": 24,
   "id": "f791d265",
   "metadata": {},
   "outputs": [
    {
     "name": "stdout",
     "output_type": "stream",
     "text": [
      "friday feature number:  79\n",
      "monday feature number:  79\n"
     ]
    }
   ],
   "source": [
    "print(\"friday feature number: \", len(fridayDataSet.columns))\n",
    "print(\"monday feature number: \", len(mondayDataSet.columns))"
   ]
  },
  {
   "cell_type": "code",
   "execution_count": 22,
   "id": "c55020cc",
   "metadata": {},
   "outputs": [
    {
     "name": "stdout",
     "output_type": "stream",
     "text": [
      "\n",
      "---FridayDataSet---\n",
      "\n",
      "DDoS Atak Sayısı: 128027\n",
      "Normal Paket Sayısı: 97718\n",
      "Total Sayısı: 225745\n",
      "DDoS Oranı: 56.71310549513832\n"
     ]
    }
   ],
   "source": [
    "ddosPaketSayisi = len(fridayDataSet[fridayDataSet[\" Label\"] == \"DDoS\"])\n",
    "normalPaketSayisi = len(fridayDataSet[fridayDataSet[\" Label\"] == \"BENIGN\"])\n",
    "paketNumber = len(fridayDataSet)\n",
    "\n",
    "print(\"\\n---FridayDataSet---\\n\")\n",
    "print(f'DDoS Atak Sayısı: {ddosPaketSayisi}')\n",
    "print(f'Normal Paket Sayısı: {normalPaketSayisi}')\n",
    "print(f'Total Sayısı: {paketNumber}')\n",
    "print(f'DDoS Oranı: {100 * ddosPaketSayisi / paketNumber}')"
   ]
  },
  {
   "cell_type": "code",
   "execution_count": 23,
   "id": "f4cfc3b2",
   "metadata": {},
   "outputs": [
    {
     "name": "stdout",
     "output_type": "stream",
     "text": [
      "\n",
      "---MondayDataSet---\n",
      "\n",
      "DDoS Atak Sayısı: 0\n",
      "Normal Paket Sayısı: 529918\n",
      "Total Sayısı: 529918\n",
      "DDoS Oranı: 0.0\n"
     ]
    }
   ],
   "source": [
    "ddosPaketSayisi = len(mondayDataSet[mondayDataSet[\" Label\"] == \"DDoS\"])\n",
    "normalPaketSayisi = len(mondayDataSet[mondayDataSet[\" Label\"] == \"BENIGN\"])\n",
    "paketNumber = len(mondayDataSet)\n",
    "\n",
    "print(\"\\n---MondayDataSet---\\n\")\n",
    "print(f'DDoS Atak Sayısı: {ddosPaketSayisi}')\n",
    "print(f'Normal Paket Sayısı: {normalPaketSayisi}')\n",
    "print(f'Total Sayısı: {paketNumber}')\n",
    "print(f'DDoS Oranı: {100 * ddosPaketSayisi / paketNumber}')"
   ]
  },
  {
   "cell_type": "code",
   "execution_count": null,
   "id": "8ba83f05",
   "metadata": {},
   "outputs": [],
   "source": []
  }
 ],
 "metadata": {
  "kernelspec": {
   "display_name": "Python 3 (ipykernel)",
   "language": "python",
   "name": "python3"
  },
  "language_info": {
   "codemirror_mode": {
    "name": "ipython",
    "version": 3
   },
   "file_extension": ".py",
   "mimetype": "text/x-python",
   "name": "python",
   "nbconvert_exporter": "python",
   "pygments_lexer": "ipython3",
   "version": "3.9.7"
  }
 },
 "nbformat": 4,
 "nbformat_minor": 5
}
